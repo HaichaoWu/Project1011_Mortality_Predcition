{
 "cells": [
  {
   "cell_type": "code",
   "execution_count": null,
   "metadata": {
    "collapsed": true
   },
   "outputs": [],
   "source": [
    "###not parameterized because the parameter is not standardlized. too much work to customize"
   ]
  },
  {
   "cell_type": "code",
   "execution_count": 2,
   "metadata": {
    "collapsed": false,
    "deletable": true,
    "editable": true
   },
   "outputs": [],
   "source": [
    "import fasttext\n",
    "import itertools\n",
    "import os\n",
    "from sklearn.metrics import roc_auc_score\n",
    "import matplotlib.pyplot as plt\n",
    "from tqdm import tqdm\n",
    "import pandas as pd\n",
    "from mpl_toolkits.mplot3d import Axes3D\n",
    "import numpy as np"
   ]
  },
  {
   "cell_type": "markdown",
   "metadata": {},
   "source": [
    "### Config"
   ]
  },
  {
   "cell_type": "code",
   "execution_count": 3,
   "metadata": {
    "collapsed": true
   },
   "outputs": [],
   "source": [
    "path = './data/'#the folder where your dataset is saved(assume train, val, test are saved under the same dir)\n",
    "time = '24h'\n",
    "train_path = path + 'train_' + time + '.txt'\n",
    "val_path = path + 'val_' + time + '.txt'"
   ]
  },
  {
   "cell_type": "code",
   "execution_count": 4,
   "metadata": {
    "collapsed": false,
    "deletable": true,
    "editable": true
   },
   "outputs": [],
   "source": [
    "epoch_para = [10, 15, 20, 25, 30]\n",
    "lr_para = [0.01, 0.05, 0.1, 0.15, 0.2]\n",
    "ws_para = [5, 10, 15, 20, 25,30]\n",
    "x = []\n",
    "x.append(epoch_para)\n",
    "x.append(lr_para)\n",
    "x.append(ws_para)\n",
    "para_pair = list(itertools.product(*x))"
   ]
  },
  {
   "cell_type": "markdown",
   "metadata": {},
   "source": [
    "### Data"
   ]
  },
  {
   "cell_type": "code",
   "execution_count": 5,
   "metadata": {
    "collapsed": false,
    "deletable": true,
    "editable": true
   },
   "outputs": [],
   "source": [
    "text = []\n",
    "with open( train_path,'r') as f:\n",
    "    for line in f:\n",
    "        text.append(line)"
   ]
  },
  {
   "cell_type": "markdown",
   "metadata": {},
   "source": [
    "### Train"
   ]
  },
  {
   "cell_type": "code",
   "execution_count": 6,
   "metadata": {
    "collapsed": false,
    "deletable": true,
    "editable": true
   },
   "outputs": [],
   "source": [
    "#tune the parameters for above and save these models\n",
    "for epoch_, lr_, ws_ in para_pair:\n",
    "    classifier = fasttext.supervised(train_path, 'model_{}_{}_{}_{}'.format(time, epoch_, lr_, ws_), epoch = epoch_, lr = lr_, ws = ws_, label_prefix='__label__')"
   ]
  },
  {
   "cell_type": "code",
   "execution_count": 7,
   "metadata": {
    "collapsed": true,
    "deletable": true,
    "editable": true
   },
   "outputs": [],
   "source": [
    "#input the validation set and split the data and labels(now label and data comes together)\n",
    "def readin_split(path):\n",
    "    '''\n",
    "    path: get the val/test set\n",
    "    return: list of texts, corresponding labels\n",
    "    '''\n",
    "    text_val = []\n",
    "    with open(path,'r') as f:\n",
    "        for line in f:\n",
    "            text_val.append(line)\n",
    "\n",
    "    labels_val = []\n",
    "    for i in range(len(text_val)):\n",
    "        temp = text_val[i].strip('\\n').split('__')\n",
    "        text_val[i] = temp[0]\n",
    "        labels_val.append(temp[-1])\n",
    "    return text_val, labels_val"
   ]
  },
  {
   "cell_type": "code",
   "execution_count": 8,
   "metadata": {
    "collapsed": false,
    "deletable": true,
    "editable": true
   },
   "outputs": [],
   "source": [
    "text_val, label_val = readin_split(val_path)"
   ]
  },
  {
   "cell_type": "code",
   "execution_count": 9,
   "metadata": {
    "collapsed": false,
    "deletable": true,
    "editable": true,
    "scrolled": true
   },
   "outputs": [
    {
     "data": {
      "text/plain": [
       "'date # # # am chest portable ap clip number reason central line placement admitting diagnosis acute myocardial infarctionsepsis hospital medical condition # # year old man with as mr and new onset cp reason for this examination central line placement final report history as mr and newonset chest pain central line placement chest single ap view extreme left costophrenic angle excluded from film status post sternotomy with mild cardiomegaly the aorta is calcified minimal upper zone redistribution there is patchy increased opacity at both bases question atelectasis or early chf an early infiltrate is considered less likely no rightsided effusion is present no gross left effusion is seen a left subclavian central line is present tip at expected junction with right subclavian and innominate no pneumothorax is detected ccu nursing progress note # # # # # # # # # # yo male w extensive cardiac hx admitted from osh for cellulitis orchitis sepsis cb nstemi at osh pt transferred to hospital for possible cardiac catheterization s its really tender down there o please see careview for complete vsadditional objective data ms aaox # pleasant and cooperative mae assisting w care pearl pt denies cp but still complaining of pain secondary to cellulitic scrotum pt received fentanyl # # mcg x # since arrival w some resolution of pain cv afib upon arrival afib not reported from osh but reported from ems ho aware of afib not ordered for anticoagulation at this time attempting to establish onset of afib chronic vs acute rare pvc noted hr # # # # # nibp # # s # # # # # # # s attempted aline placement x # pt arrived on # mcgkgmin of neo sbp # # titrated neo gtt to # mcgkgmin sbp labile initially but maps now # # per ho started neo gtt wean to enhance forward flow and minimize vasoconstriction pt remains on # mcgkgmin at present pt denies cp cvp # # # # hh stable mg # # repleted w # gm mgso # plt # # s at osh # # upon admission ho aware distal pulses dopplerable resp arrived on nrb weaned to # l o # sats # # # # # rr # # s # # slightly tachypneic while lying flat during line placement overall tolerating lying flat fairly well given chf rales auscultated date pt denies sob no cough no sputum gigu abd soft ntnd bs no stool reports poor appetite of late tolerating ice chips and italian ice wo difficulty no nv fc to gravity uop # # # cc at osh after lasix not diuresed since admission while on neo uop only # # # cc while at hospital ho aware prerenal vs atn dt hypoperfusion secondary to hypotension buncr # # # # id # # # # pr on levofloxacin clindamycin which was changed to vancomycin for coverage of enterococcus wbc remains at # # # skin cellulitic groin scrotum barrier cream lidocaine from urojet applied to area scrotum also elevated with towel pt only co tenderness rt movement access # piv tlc sc placed wo difficulty confirmed by cxr and currently in use social widowed pt has # daughters that live in name pt has a girlfriend name that is currenly in bermuda girlfriends dtr drove pt to osh and visited overnoc numbers are on board ap extensive pmhx sepsis vs nstemi tx for possible cardiac catheterization tlc placemnt tolerating gradual neo gtt wean diurese as tolerated anticoagulation for afib cont to follow urinary status prerenal vs atn cont supportive care keep pt updated in poc skin consult for treatment of cellulitis ccu nursing progress note # # # # # # # # s i have almost no more pain down there only when i move o see carevue flowsheet for complete vs objective data pt is a # # yo man wextensive hx cad osh wnew scrotal cellulitis developed cpsobhypotension placed on neo at osh transferred to hospital ccu for further monitoring cath cv hr # # # # # afib woccas pvcs heparin started in am for new af # # # # uhr w # # # # u bolus ptt # # increased to # # # # uhr after # # # # u bolus per sliding scale at number bp # # # # # s # # # # on neo initially at # mcgskg weaned slowly to off bp then dropped to # # restart at # mcgs and then date to # # mcgs wstable bp no co cpsob cpk in am # # resp sats # # # # on # l now titrated to # l w sats # # # # lungs crackles at bases rr # # # # tachypnic id wbc # # in am on iv levo vanc bcs x # uacs sent at # # # # scrotum severely swollen red erythema spread to groin lower abdomen area marked in am increased reddness over course of day and remarked at # # # # scrotal area painful to touch movement however pt states today has decreased pain from past # # days tylenol # # # po given x # otherwise no further pain meds scrotum elevated lidocream combo applied area weeping serous fluid abominal ct scan ordered needs hydration wnabicarb for # hour prior to scan and # hours after renalgu foley in place draining minimal amt clear amber urine buncr climbed from # # # # in am to # # # # this pm given # # # cc ns bolus x # this am encouraging po intake pt is thirsty and taking pos well # # # # cc gi cardiac diet appetite good no supper sec to abdominal ct ordered abdomen soft nontender bs no stool social name girlfriend in to visit very supportive of one another pts daughter called on phone pt had upsetting conversation wher does not wish to speak wher again at this time pt states she is selfish and self centered otherwise did not elaborate on issues a pt name wcp new onset afib in setting of severe scrotal infection hypotension sepsis p monitor hrrhythm cont heparin wafib follow bp and wean neo as tolerated cont antibx wawit cxs follow temps wbc assess increased pain swelling redness in scrotal area prehydrate for abdominal ct follow urine output buncr emotional support for ptgirlfriend keep family informed of cconditionplan of care date # # # pm ct abdomen wo contrast ct pelvis wo contrast clip number ct reconstruction reason please do abdomenpelvis without contrast to rule out fourni admitting diagnosis acute myocardial infarctionsepsis field of view # # contrast optiray amt hospital medical condition # # year old man with pmh of cad sp # v cabg htn chf mr as admitted with sx associated with epididymal orchitis w subsequent development of nstemi now admitted to ccu for further evaluation reason for this examination please do abdomenpelvis without contrast to rule out fourniers gangrene no contraindications for iv contrast wet read fkh sun date # # # # pm edema and air in the left hemiscrotum which is consistent with furnier gangrene final report indication # # yearold male with coronary disease status post cabg admitted with orchitis comparisons no comparisons are available technique # mdct axial images of the abdomen and pelvis were obtained without iv contrast iv contrast was not administered because the patients creatinine was # # oral contrast was not administered ct of the abdomen without iv contrast there is cardiomegaly and severe coronary artery calcifications there are no pleural effusions there are no pericardial effusions there are patchy opacities in bilateral lung bases which could represent atelectasis there is a hypodense area in the dome of the liver measuring # # mm series # image # this was not well characterized in the study there was another hyperdense area on lobe of the liver series # image # # measuring # mm this was also too small to characterize the gallbladder is not distended the spleen is unremarkable both adrenal glands are enlarged and slightly nodular differential diagnosis would include adenomas versus hyperplasia there is no evidence of hydronephrosis there are calcifications of renal artery branches there is a small hypodense area in the mid pole of the right kidney measuring # mm that is too small to characterize in this study hyperdense exophytic area of the lower pole of the left kidney was not well characterized in this study although it could represent a hyperdense cyst possibility of a small mass can not be excluded recommend ultrasound of the kidney or mri for further evaluation the pancreas is unremarkable there is no intra or extrahepatic bile duct dilatation there is no pancreatic duct dilatation the small and large bowels are within normal limits the aorta is severely calcified there is over date # # # pm ct abdomen wo contrast ct pelvis wo contrast clip number ct reconstruction reason please do abdomenpelvis without contrast to rule out fourni admitting diagnosis acute myocardial infarctionsepsis field of view # # contrast optiray amt final report cont dilatation of the right common iliac artery which measures up to # cm there is also aneurysmal dilatation of the right common femoral artery which measures up to # cm there is no free fluid or free air in the abdomen ct of the pelvis without iv contrast there is a foley catheter within the urinary bladder the scrotum is markedly enlarged and there is a large amount of air within the scrotum with tracks up to the left inguinal canal the air in the scrotal sac predominates in the left side there is also stranding and edema these findings are consistent with a fournier gangrene findings were immediately communicated to dr name bone windows there are no suspicious lytic or blastic lesions multiplanar reconstructions were important to evaluate the extent of the air impression # findings consistent with fournier gangrene involving predominantly the left aspect of the scrotum it tracks up through the left inguinal canal findings were immediately communicated to dr name at # # # # pm # ectasia of the right common iliac artery measuring up to # cm # right femoral artery aneurysm measuring # cm # severe coronary artery calcifications and cardiomegaly # small hypodense areas in the liver and kidneys are not well characterized in this noncontrast study # exophytic hyperdense area in the lower pole of left kidney requires further workup with ultrasound or mri '"
      ]
     },
     "execution_count": 9,
     "metadata": {},
     "output_type": "execute_result"
    }
   ],
   "source": [
    "text_val[0]"
   ]
  },
  {
   "cell_type": "code",
   "execution_count": 10,
   "metadata": {
    "collapsed": false,
    "deletable": true,
    "editable": true
   },
   "outputs": [
    {
     "data": {
      "text/plain": [
       "'LIVE'"
      ]
     },
     "execution_count": 10,
     "metadata": {},
     "output_type": "execute_result"
    }
   ],
   "source": [
    "label_val[0] #for calculating auc"
   ]
  },
  {
   "cell_type": "markdown",
   "metadata": {
    "deletable": true,
    "editable": true
   },
   "source": [
    "### Select"
   ]
  },
  {
   "cell_type": "code",
   "execution_count": 11,
   "metadata": {
    "collapsed": false,
    "deletable": true,
    "editable": true
   },
   "outputs": [],
   "source": [
    "folder_li = filelist=os.listdir('/Users/leilei/Documents/DS1011Project')\n",
    "folder_li = [i for i in folder_li if i.endswith('.bin')]"
   ]
  },
  {
   "cell_type": "code",
   "execution_count": 12,
   "metadata": {
    "collapsed": true,
    "deletable": true,
    "editable": true
   },
   "outputs": [],
   "source": [
    "model_li = []\n",
    "for path in folder_li: #the models' name corresponding to the name of the path\n",
    "    model = fasttext.load_model(path, label_prefix='__label__')\n",
    "    model_li.append(model)"
   ]
  },
  {
   "cell_type": "code",
   "execution_count": 13,
   "metadata": {
    "collapsed": true,
    "deletable": true,
    "editable": true
   },
   "outputs": [],
   "source": [
    "binary_label_val = [0 if i == 'LIVE' else 1 for i in label_val]"
   ]
  },
  {
   "cell_type": "code",
   "execution_count": 14,
   "metadata": {
    "collapsed": false,
    "deletable": true,
    "editable": true,
    "scrolled": false
   },
   "outputs": [
    {
     "name": "stderr",
     "output_type": "stream",
     "text": [
      "100%|██████████| 150/150 [03:29<00:00,  1.40s/it]\n"
     ]
    }
   ],
   "source": [
    "score = []\n",
    "num = 0\n",
    "for i in tqdm(model_li):\n",
    "    predict_list = i.predict(text_val)\n",
    "    #print(num)\n",
    "    num += 1\n",
    "    predict_list = list(itertools.chain.from_iterable(predict_list))\n",
    "    binary_predict_li = [0  if i == 'LIVE' else 1 for i in predict_list ]\n",
    "    score.append(roc_auc_score(binary_label_val, binary_predict_li))"
   ]
  },
  {
   "cell_type": "code",
   "execution_count": 15,
   "metadata": {
    "collapsed": false,
    "deletable": true,
    "editable": true
   },
   "outputs": [
    {
     "data": {
      "image/png": "[encoded data removed]",
      "text/plain": [
       "<matplotlib.figure.Figure at 0x117cb7390>"
      ]
     },
     "metadata": {},
     "output_type": "display_data"
    }
   ],
   "source": [
    "plt.plot(score)\n",
    "plt.show();"
   ]
  },
  {
   "cell_type": "code",
   "execution_count": 16,
   "metadata": {
    "collapsed": false,
    "deletable": true,
    "editable": true
   },
   "outputs": [],
   "source": [
    "para_pair_df = pd.DataFrame(para_pair)\n",
    "para_pair_df.columns = ['epoch_para', 'lr_para', 'ws_para']\n",
    "para_pair_df['score'] = score"
   ]
  },
  {
   "cell_type": "code",
   "execution_count": 17,
   "metadata": {
    "collapsed": false,
    "deletable": true,
    "editable": true
   },
   "outputs": [
    {
     "data": {
      "text/html": [
       "<div>\n",
       "<table border=\"1\" class=\"dataframe\">\n",
       "  <thead>\n",
       "    <tr style=\"text-align: right;\">\n",
       "      <th></th>\n",
       "      <th>epoch_para</th>\n",
       "      <th>lr_para</th>\n",
       "      <th>ws_para</th>\n",
       "      <th>score</th>\n",
       "    </tr>\n",
       "  </thead>\n",
       "  <tbody>\n",
       "    <tr>\n",
       "      <th>0</th>\n",
       "      <td>10</td>\n",
       "      <td>0.01</td>\n",
       "      <td>5</td>\n",
       "      <td>0.781625</td>\n",
       "    </tr>\n",
       "    <tr>\n",
       "      <th>6</th>\n",
       "      <td>10</td>\n",
       "      <td>0.05</td>\n",
       "      <td>5</td>\n",
       "      <td>0.755744</td>\n",
       "    </tr>\n",
       "    <tr>\n",
       "      <th>12</th>\n",
       "      <td>10</td>\n",
       "      <td>0.10</td>\n",
       "      <td>5</td>\n",
       "      <td>0.753170</td>\n",
       "    </tr>\n",
       "    <tr>\n",
       "      <th>18</th>\n",
       "      <td>10</td>\n",
       "      <td>0.15</td>\n",
       "      <td>5</td>\n",
       "      <td>0.783791</td>\n",
       "    </tr>\n",
       "    <tr>\n",
       "      <th>24</th>\n",
       "      <td>10</td>\n",
       "      <td>0.20</td>\n",
       "      <td>5</td>\n",
       "      <td>0.786921</td>\n",
       "    </tr>\n",
       "  </tbody>\n",
       "</table>\n",
       "</div>"
      ],
      "text/plain": [
       "    epoch_para  lr_para  ws_para     score\n",
       "0           10     0.01        5  0.781625\n",
       "6           10     0.05        5  0.755744\n",
       "12          10     0.10        5  0.753170\n",
       "18          10     0.15        5  0.783791\n",
       "24          10     0.20        5  0.786921"
      ]
     },
     "execution_count": 17,
     "metadata": {},
     "output_type": "execute_result"
    }
   ],
   "source": [
    "para_pair_df[(para_pair_df.epoch_para == 10)&(para_pair_df.ws_para ==5)]"
   ]
  },
  {
   "cell_type": "code",
   "execution_count": null,
   "metadata": {
    "collapsed": true,
    "deletable": true,
    "editable": true
   },
   "outputs": [],
   "source": [
    "### though it didn't take avg(seems the minimum), cause for two types, there are a few results, \n",
    "###which the below result only takes part of it. but here just have an idea"
   ]
  },
  {
   "cell_type": "code",
   "execution_count": 18,
   "metadata": {
    "collapsed": false
   },
   "outputs": [
    {
     "data": {
      "text/plain": [
       "0.78765048038322616"
      ]
     },
     "execution_count": 18,
     "metadata": {},
     "output_type": "execute_result"
    }
   ],
   "source": [
    "max(score)"
   ]
  },
  {
   "cell_type": "code",
   "execution_count": 19,
   "metadata": {
    "collapsed": true,
    "deletable": true,
    "editable": true
   },
   "outputs": [],
   "source": [
    "para_pair_df.to_csv('performance_{}.csv'.format(time))"
   ]
  },
  {
   "cell_type": "markdown",
   "metadata": {
    "deletable": true,
    "editable": true
   },
   "source": [
    "### light visual"
   ]
  },
  {
   "cell_type": "code",
   "execution_count": 20,
   "metadata": {
    "collapsed": false,
    "deletable": true,
    "editable": true
   },
   "outputs": [
    {
     "data": {
      "text/html": [
       "<iframe id=\"igraph\" scrolling=\"no\" style=\"border:none;\" seamless=\"seamless\" src=\"https://plot.ly/~xlxulei105/56.embed\" height=\"525px\" width=\"100%\"></iframe>"
      ],
      "text/plain": [
       "<plotly.tools.PlotlyDisplay object>"
      ]
     },
     "execution_count": 20,
     "metadata": {},
     "output_type": "execute_result"
    }
   ],
   "source": [
    "import plotly.plotly as py\n",
    "import plotly.graph_objs as go\n",
    "\n",
    "trace = go.Heatmap(z=para_pair_df.score,x=para_pair_df.epoch_para,y=para_pair_df.lr_para,colorscale='rgb(50, 204, 153)')\n",
    "data=[trace]\n",
    "py.iplot(data, filename='epoch_lr_para',image_width=800, image_height=200)"
   ]
  },
  {
   "cell_type": "code",
   "execution_count": 21,
   "metadata": {
    "collapsed": false,
    "deletable": true,
    "editable": true
   },
   "outputs": [
    {
     "data": {
      "text/html": [
       "<iframe id=\"igraph\" scrolling=\"no\" style=\"border:none;\" seamless=\"seamless\" src=\"https://plot.ly/~xlxulei105/58.embed\" height=\"525px\" width=\"100%\"></iframe>"
      ],
      "text/plain": [
       "<plotly.tools.PlotlyDisplay object>"
      ]
     },
     "execution_count": 21,
     "metadata": {},
     "output_type": "execute_result"
    }
   ],
   "source": [
    "import plotly.plotly as py\n",
    "import plotly.graph_objs as go\n",
    "\n",
    "trace = go.Heatmap(z=para_pair_df.score,x=para_pair_df.epoch_para,y=para_pair_df.ws_para,colorscale='rgb(50, 204, 153)')\n",
    "data=[trace]\n",
    "py.iplot(data, filename='epoch_ws_para',image_width=800, image_height=200)"
   ]
  },
  {
   "cell_type": "code",
   "execution_count": 23,
   "metadata": {
    "collapsed": false,
    "deletable": true,
    "editable": true
   },
   "outputs": [
    {
     "data": {
      "text/html": [
       "<iframe id=\"igraph\" scrolling=\"no\" style=\"border:none;\" seamless=\"seamless\" src=\"https://plot.ly/~xlxulei105/56.embed\" height=\"525px\" width=\"100%\"></iframe>"
      ],
      "text/plain": [
       "<plotly.tools.PlotlyDisplay object>"
      ]
     },
     "execution_count": 23,
     "metadata": {},
     "output_type": "execute_result"
    }
   ],
   "source": [
    "import plotly.plotly as py\n",
    "import plotly.graph_objs as go\n",
    "\n",
    "trace = go.Heatmap(z=para_pair_df.score,x=para_pair_df.ws_para,y=para_pair_df.lr_para,colorscale='rgb(50, 204, 153)')\n",
    "data=[trace]\n",
    "py.iplot(data, filename='epoch_lr_para',image_width=800, image_height=200)"
   ]
  },
  {
   "cell_type": "code",
   "execution_count": null,
   "metadata": {
    "collapsed": true,
    "deletable": true,
    "editable": true
   },
   "outputs": [],
   "source": [
    "therefore, go with epoch == 25 - 30,或者10, learning rate 0.05, ws = 20. and now train new combination(see around where increase color)"
   ]
  },
  {
   "cell_type": "markdown",
   "metadata": {
    "deletable": true,
    "editable": true
   },
   "source": [
    "### retrain and test"
   ]
  },
  {
   "cell_type": "code",
   "execution_count": 24,
   "metadata": {
    "collapsed": false,
    "deletable": true,
    "editable": true
   },
   "outputs": [],
   "source": [
    "#tune the parameters for above and save these models\n",
    "epoch_para = [25,27,29, 31] #3\n",
    "lr_para = [0.03,0.05,0.07] #3\n",
    "ws_para = [18,20,22,24]#7\n",
    "x = []\n",
    "x.append(epoch_para)\n",
    "x.append(lr_para)\n",
    "x.append(ws_para)\n",
    "para_pair_new = list(itertools.product(*x))\n",
    "para_pair_new = [i for i in para_pair_new if i not in para_pair] \n",
    "#therefore avoid retrain and easy to get the score\n",
    "#previously has to find the missing because filtering use the original list"
   ]
  },
  {
   "cell_type": "code",
   "execution_count": 25,
   "metadata": {
    "collapsed": false
   },
   "outputs": [],
   "source": [
    "for epoch_, lr_, ws_ in para_pair_new:\n",
    "    classifier = fasttext.supervised(train_path, 'model_{}_{}_{}_{}'.format(time,epoch_, lr_, ws_), epoch = epoch_, lr = lr_, ws = ws_, label_prefix='__label__')"
   ]
  },
  {
   "cell_type": "code",
   "execution_count": 26,
   "metadata": {
    "collapsed": false,
    "deletable": true,
    "editable": true
   },
   "outputs": [],
   "source": [
    "### don't use this, becasue if the above has run, the combination won't be added, but don't know which one is missing\n",
    "folder_li2 = os.listdir('/Users/leilei/Documents/DS1011Project')\n",
    "folder_li2 = [i for i in folder_li2 if (i.endswith('.bin')) and (i not in folder_li)]\n",
    "model_li_new = []\n",
    "for path in folder_li2: #the models' name corresponding to the name of the path\n",
    "    model = fasttext.load_model(path, label_prefix='__label__')\n",
    "    model_li_new.append(model)"
   ]
  },
  {
   "cell_type": "code",
   "execution_count": 27,
   "metadata": {
    "collapsed": false
   },
   "outputs": [
    {
     "data": {
      "text/plain": [
       "(47, 47, 47)"
      ]
     },
     "execution_count": 27,
     "metadata": {},
     "output_type": "execute_result"
    }
   ],
   "source": [
    "len(model_li_new),len(para_pair_new),len(folder_li2)"
   ]
  },
  {
   "cell_type": "code",
   "execution_count": 28,
   "metadata": {
    "collapsed": false
   },
   "outputs": [
    {
     "name": "stderr",
     "output_type": "stream",
     "text": [
      "100%|██████████| 47/47 [00:46<00:00,  1.00it/s]\n"
     ]
    }
   ],
   "source": [
    "score_new = []\n",
    "for i in tqdm(model_li_new):\n",
    "    predict_list = i.predict(text_val)\n",
    "    predict_list = list(itertools.chain.from_iterable(predict_list))\n",
    "    binary_predict_li = [0  if i == 'LIVE' else 1 for i in predict_list ]\n",
    "    score_new.append(roc_auc_score(binary_label_val, binary_predict_li))"
   ]
  },
  {
   "cell_type": "code",
   "execution_count": 29,
   "metadata": {
    "collapsed": false
   },
   "outputs": [
    {
     "data": {
      "text/plain": [
       "(0.78765048038322616, 0.78889409962212631)"
      ]
     },
     "execution_count": 29,
     "metadata": {},
     "output_type": "execute_result"
    }
   ],
   "source": [
    "max(score), max(score_new)"
   ]
  },
  {
   "cell_type": "code",
   "execution_count": 30,
   "metadata": {
    "collapsed": false
   },
   "outputs": [
    {
     "data": {
      "image/png": "[encoded data removed]",
      "text/plain": [
       "<matplotlib.figure.Figure at 0x6ebd5f390>"
      ]
     },
     "metadata": {},
     "output_type": "display_data"
    }
   ],
   "source": [
    "plt.plot(score_new)\n",
    "plt.show();"
   ]
  },
  {
   "cell_type": "code",
   "execution_count": 31,
   "metadata": {
    "collapsed": false,
    "deletable": true,
    "editable": true,
    "scrolled": true
   },
   "outputs": [
    {
     "data": {
      "text/plain": [
       "(array([37]),)"
      ]
     },
     "execution_count": 31,
     "metadata": {},
     "output_type": "execute_result"
    }
   ],
   "source": [
    "np.where(score_new ==max(score_new))"
   ]
  },
  {
   "cell_type": "code",
   "execution_count": 32,
   "metadata": {
    "collapsed": false,
    "deletable": true,
    "editable": true
   },
   "outputs": [
    {
     "data": {
      "text/plain": [
       "(31, 0.03, 22)"
      ]
     },
     "execution_count": 32,
     "metadata": {},
     "output_type": "execute_result"
    }
   ],
   "source": [
    "para_pair_new[37]"
   ]
  },
  {
   "cell_type": "code",
   "execution_count": 33,
   "metadata": {
    "collapsed": false,
    "deletable": true,
    "editable": true
   },
   "outputs": [],
   "source": [
    "para_pair_df_new = pd.DataFrame(para_pair_new)\n",
    "para_pair_df_new.columns = ['epoch_para', 'lr_para', 'ws_para']\n",
    "para_pair_df_new['score'] = score_new"
   ]
  },
  {
   "cell_type": "code",
   "execution_count": 34,
   "metadata": {
    "collapsed": true,
    "deletable": true,
    "editable": true
   },
   "outputs": [],
   "source": [
    "para_pair_df_new.to_csv('performance_{}_2.csv'.format(time))"
   ]
  },
  {
   "cell_type": "code",
   "execution_count": null,
   "metadata": {
    "collapsed": true,
    "deletable": true,
    "editable": true
   },
   "outputs": [],
   "source": [
    "#guess: when the time is longer, the optimum range of window size needs to be longer as the length of the notes.\n",
    "#not really, the best is 5"
   ]
  }
 ],
 "metadata": {
  "kernelspec": {
   "display_name": "Python 3",
   "language": "python",
   "name": "python3"
  },
  "language_info": {
   "codemirror_mode": {
    "name": "ipython",
    "version": 3
   },
   "file_extension": ".py",
   "mimetype": "text/x-python",
   "name": "python",
   "nbconvert_exporter": "python",
   "pygments_lexer": "ipython3",
   "version": "3.6.0"
  }
 },
 "nbformat": 4,
 "nbformat_minor": 2
}
