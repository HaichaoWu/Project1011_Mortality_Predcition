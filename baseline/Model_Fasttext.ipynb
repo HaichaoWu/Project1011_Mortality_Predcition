{
 "cells": [
  {
   "cell_type": "markdown",
   "metadata": {},
   "source": [
    "# FastText "
   ]
  },
  {
   "cell_type": "code",
   "execution_count": null,
   "metadata": {
    "collapsed": true
   },
   "outputs": [],
   "source": [
    "DATAPATH = './data/data_baseline_fasttext_starspace/'\n",
    "import glob\n",
    "files = glob.glob(DATAPATH+'*')\n",
    "labels_dict = {}\n",
    "for file in files:\n",
    "    with open(file, 'r') as f:\n",
    "        lines = f.readlines()\n",
    "    f.close()\n",
    "    labels = [line[-5:-1] for line in lines]\n",
    "    labels_dict[file[40:-4]] = labels\n",
    "#     f_w = open(file, 'w')\n",
    "#     for line in lines:\n",
    "#         if 'LIVE' in line[-9:]:\n",
    "#             change = '__label__LIVE\\n'\n",
    "#         else:\n",
    "#             change = '__label__DEAD\\n'\n",
    "\n",
    "#         new_line  = ''.join([line[:-9], change])\n",
    "#         f_w.write(new_line)\n",
    "#     f_w.close()\n",
    "\n",
    "        "
   ]
  },
  {
   "cell_type": "code",
   "execution_count": null,
   "metadata": {
    "collapsed": true
   },
   "outputs": [],
   "source": [
    "with open('./data/data_baseline_fasttext_starspace/labels_splitted_data.pickle', 'wb') as f:\n",
    "    pickle.dump(labels_dict, f)"
   ]
  },
  {
   "cell_type": "code",
   "execution_count": null,
   "metadata": {
    "collapsed": true
   },
   "outputs": [],
   "source": [
    "from sklearn.metrics import roc_auc_score\n",
    "def auc_calculation(data_name, prob_file_name, labels_dict):\n",
    "    true = (pd.Series(labels_dict[data_name]) == 'DEAD') *1\n",
    "    \n",
    "    with open(prob_file_name, 'r') as f:\n",
    "        lines = f.readlines()\n",
    "    prob_dead = []\n",
    "    for line in lines:\n",
    "        label_1, prob_1,label_2, prob_2 = line[:-2].split(' ')\n",
    "        if 'DEAD' in label_1:\n",
    "            prob_dead.append(float(prob_1))\n",
    "        else:\n",
    "            prob_dead.append(float(prob_2))\n",
    "    return roc_auc_score(true, prob_dead)"
   ]
  },
  {
   "cell_type": "markdown",
   "metadata": {},
   "source": [
    "# CNN Structure "
   ]
  },
  {
   "cell_type": "code",
   "execution_count": null,
   "metadata": {
    "collapsed": true
   },
   "outputs": [],
   "source": [
    "class CNN_Severyn(nn.Module):\n",
    "    def __init__(self, config):\n",
    "        super(CNN_Severyn, self).__init__()\n",
    "        self.word_embed = nn.Embedding(batch_size, words_dim)\n",
    "        \n",
    "    def forward(self, x):\n",
    "        "
   ]
  }
 ],
 "metadata": {
  "anaconda-cloud": {},
  "kernelspec": {
   "display_name": "Python [Root]",
   "language": "python",
   "name": "Python [Root]"
  },
  "language_info": {
   "codemirror_mode": {
    "name": "ipython",
    "version": 3
   },
   "file_extension": ".py",
   "mimetype": "text/x-python",
   "name": "python",
   "nbconvert_exporter": "python",
   "pygments_lexer": "ipython3",
   "version": "3.5.2"
  }
 },
 "nbformat": 4,
 "nbformat_minor": 2
}
