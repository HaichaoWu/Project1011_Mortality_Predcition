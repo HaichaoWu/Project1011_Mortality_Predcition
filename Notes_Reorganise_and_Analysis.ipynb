{
 "cells": [
  {
   "cell_type": "code",
   "execution_count": 241,
   "metadata": {},
   "outputs": [],
   "source": [
    "import pandas as pd\n",
    "from dateutil import parser\n",
    "import matplotlib.pyplot as plt\n",
    "import numpy as np\n",
    "% matplotlib inline"
   ]
  },
  {
   "cell_type": "code",
   "execution_count": 2,
   "metadata": {},
   "outputs": [
    {
     "name": "stderr",
     "output_type": "stream",
     "text": [
      "/Users/apple/anaconda3/lib/python3.5/site-packages/IPython/core/interactiveshell.py:2723: DtypeWarning: Columns (4,5) have mixed types. Specify dtype option on import or set low_memory=False.\n",
      "  interactivity=interactivity, compiler=compiler, result=result)\n"
     ]
    }
   ],
   "source": [
    "import pandas as pd\n",
    "admission_table=pd.read_csv('data/ADMISSIONS.csv')\n",
    "notes_table=pd.read_csv('data/NOTEEVENTS.csv')\n",
    "data_merged = pd.merge(notes_table, admission_table, how='left', on=['SUBJECT_ID', 'HADM_ID'])"
   ]
  },
  {
   "cell_type": "code",
   "execution_count": 302,
   "metadata": {
    "collapsed": true
   },
   "outputs": [],
   "source": [
    "valid_subject = pd.read_csv('data/id_inhospital_deathtime.csv', index_col = 0)"
   ]
  },
  {
   "cell_type": "code",
   "execution_count": 116,
   "metadata": {},
   "outputs": [],
   "source": [
    "# take the first addmission time \n",
    "admission_table['ADMITTIME']=admission_table['ADMITTIME'].map(lambda x: parser.parse(x))\n",
    "sub_hops_admission = admission_table.groupby(['SUBJECT_ID'])['ADMITTIME'].unique()\n",
    "sub_hops_admission = sub_hops_admission.map(lambda x: sorted(x)[0])"
   ]
  },
  {
   "cell_type": "code",
   "execution_count": 117,
   "metadata": {
    "collapsed": true
   },
   "outputs": [],
   "source": [
    "first_adm = pd.DataFrame({'SUBJECT_ID': sub_hops_admission.index,'ADMITTIME':sub_hops_admission.values })\n",
    "first_adm = pd.merge(first_adm, admission_table, how = 'left', on = ['SUBJECT_ID','ADMITTIME' ] )\n",
    "id_first = set(first_adm['HADM_ID'])\n",
    "label = [x in id_first for x in data_merged['HADM_ID'] ]"
   ]
  },
  {
   "cell_type": "code",
   "execution_count": 119,
   "metadata": {},
   "outputs": [
    {
     "data": {
      "text/plain": [
       "46520"
      ]
     },
     "execution_count": 119,
     "metadata": {},
     "output_type": "execute_result"
    }
   ],
   "source": [
    "len(first_adm)"
   ]
  },
  {
   "cell_type": "code",
   "execution_count": 120,
   "metadata": {},
   "outputs": [],
   "source": [
    "data_merged = data_merged[label]"
   ]
  },
  {
   "cell_type": "code",
   "execution_count": 121,
   "metadata": {},
   "outputs": [
    {
     "data": {
      "text/plain": [
       "1312330"
      ]
     },
     "execution_count": 121,
     "metadata": {},
     "output_type": "execute_result"
    }
   ],
   "source": [
    "len(data_merged)"
   ]
  },
  {
   "cell_type": "code",
   "execution_count": 122,
   "metadata": {},
   "outputs": [
    {
     "data": {
      "text/plain": [
       "2083180"
      ]
     },
     "execution_count": 122,
     "metadata": {},
     "output_type": "execute_result"
    }
   ],
   "source": [
    "len(notes_table)"
   ]
  },
  {
   "cell_type": "code",
   "execution_count": 33,
   "metadata": {},
   "outputs": [],
   "source": [
    "data_merged = data_merged[~pd.isnull(data_merged['CHARTTIME'])]"
   ]
  },
  {
   "cell_type": "code",
   "execution_count": 34,
   "metadata": {},
   "outputs": [
    {
     "data": {
      "text/plain": [
       "1312330"
      ]
     },
     "execution_count": 34,
     "metadata": {},
     "output_type": "execute_result"
    }
   ],
   "source": [
    "len(data_merged)"
   ]
  },
  {
   "cell_type": "code",
   "execution_count": 42,
   "metadata": {},
   "outputs": [
    {
     "data": {
      "text/plain": [
       "Index(['ROW_ID_x', 'SUBJECT_ID', 'HADM_ID', 'CHARTDATE', 'CHARTTIME',\n",
       "       'STORETIME', 'CATEGORY', 'DESCRIPTION', 'CGID', 'ISERROR', 'TEXT',\n",
       "       'ROW_ID_y', 'ADMITTIME', 'DISCHTIME', 'DEATHTIME', 'ADMISSION_TYPE',\n",
       "       'ADMISSION_LOCATION', 'DISCHARGE_LOCATION', 'INSURANCE', 'LANGUAGE',\n",
       "       'RELIGION', 'MARITAL_STATUS', 'ETHNICITY', 'EDREGTIME', 'EDOUTTIME',\n",
       "       'DIAGNOSIS', 'HOSPITAL_EXPIRE_FLAG', 'HAS_CHARTEVENTS_DATA'],\n",
       "      dtype='object')"
      ]
     },
     "execution_count": 42,
     "metadata": {},
     "output_type": "execute_result"
    }
   ],
   "source": [
    "data_merged.columns"
   ]
  },
  {
   "cell_type": "code",
   "execution_count": 41,
   "metadata": {},
   "outputs": [
    {
     "data": {
      "text/plain": [
       "array(['SNF', 'DEAD/EXPIRED', 'HOME', 'REHAB/DISTINCT PART HOSP',\n",
       "       'HOME HEALTH CARE', 'LONG TERM CARE HOSPITAL', 'HOSPICE-HOME',\n",
       "       'HOSPICE-MEDICAL FACILITY', 'DISCH-TRAN TO PSYCH HOSP',\n",
       "       'SHORT TERM HOSPITAL', 'LEFT AGAINST MEDICAL ADVI',\n",
       "       'OTHER FACILITY', 'ICF', 'DISC-TRAN TO FEDERAL HC',\n",
       "       'DISC-TRAN CANCER/CHLDRN H', 'HOME WITH HOME IV PROVIDR',\n",
       "       'SNF-MEDICAID ONLY CERTIF'], dtype=object)"
      ]
     },
     "execution_count": 41,
     "metadata": {},
     "output_type": "execute_result"
    }
   ],
   "source": [
    "data_merged['DISCHARGE_LOCATION'].unique()"
   ]
  },
  {
   "cell_type": "code",
   "execution_count": 43,
   "metadata": {},
   "outputs": [
    {
     "data": {
      "text/plain": [
       "array(['Nursing', 'Physician ', 'Respiratory ', 'Nutrition', 'General',\n",
       "       'Case Management ', 'Pharmacy', 'Rehab Services', 'Social Work',\n",
       "       'Consult', 'Radiology', 'Nursing/other'], dtype=object)"
      ]
     },
     "execution_count": 43,
     "metadata": {},
     "output_type": "execute_result"
    }
   ],
   "source": [
    "data_merged['CATEGORY'].unique()"
   ]
  },
  {
   "cell_type": "code",
   "execution_count": 49,
   "metadata": {},
   "outputs": [
    {
     "data": {
      "text/plain": [
       "0.0"
      ]
     },
     "execution_count": 49,
     "metadata": {},
     "output_type": "execute_result"
    }
   ],
   "source": [
    "sum(pd.isnull(data_merged['DEATHTIME']))/len(data_merged)"
   ]
  },
  {
   "cell_type": "code",
   "execution_count": 81,
   "metadata": {},
   "outputs": [
    {
     "data": {
      "text/plain": [
       "float"
      ]
     },
     "execution_count": 81,
     "metadata": {},
     "output_type": "execute_result"
    }
   ],
   "source": [
    "type(data_merged['DEATHTIME'][308691])"
   ]
  },
  {
   "cell_type": "code",
   "execution_count": 82,
   "metadata": {},
   "outputs": [
    {
     "name": "stdout",
     "output_type": "stream",
     "text": [
      "DEATHTIME\n"
     ]
    }
   ],
   "source": [
    "data_merged['DEATHTIME']= [parser.parse(x) if type(x)!=float else x for x in data_merged['DEATHTIME']]\n",
    "data_merged['DEATHTIME'] = pd.to_datetime(data_merged['DEATHTIME'])\n",
    "print('DEATHTIME')"
   ]
  },
  {
   "cell_type": "code",
   "execution_count": 66,
   "metadata": {},
   "outputs": [
    {
     "name": "stdout",
     "output_type": "stream",
     "text": [
      "ADMITTIME\n",
      "DISCHTIME\n",
      "CHARTTIME\n"
     ]
    }
   ],
   "source": [
    "data_merged['ADMITTIME']=data_merged['ADMITTIME'].map(lambda x: parser.parse(x))\n",
    "print('ADMITTIME')\n",
    "data_merged['DISCHTIME']=data_merged['DISCHTIME'].map(lambda x: parser.parse(x))\n",
    "print('DISCHTIME')\n",
    "data_merged['CHARTTIME']=data_merged['CHARTTIME'].map(lambda x: parser.parse(x))\n",
    "print('CHARTTIME')"
   ]
  },
  {
   "cell_type": "code",
   "execution_count": 127,
   "metadata": {},
   "outputs": [
    {
     "data": {
      "text/plain": [
       "40"
      ]
     },
     "execution_count": 127,
     "metadata": {},
     "output_type": "execute_result"
    }
   ],
   "source": [
    "time_only = data_merged[~pd.isnull(data_merged['DEATHTIME'])][['SUBJECT_ID','CHARTTIME', 'DISCHTIME','DEATHTIME']]\n",
    "len(time_only[time_only['DEATHTIME'] != time_only['DISCHTIME']]['SUBJECT_ID'].unique())"
   ]
  },
  {
   "cell_type": "code",
   "execution_count": 147,
   "metadata": {},
   "outputs": [
    {
     "name": "stdout",
     "output_type": "stream",
     "text": [
      "0\n",
      "0\n"
     ]
    },
    {
     "name": "stderr",
     "output_type": "stream",
     "text": [
      "/Users/apple/anaconda3/lib/python3.5/site-packages/pandas/core/groupby.py:2919: FutureWarning: In the future, NAT != NAT will be True rather than False.\n",
      "  inc = np.r_[1, val[1:] != val[:-1]]\n"
     ]
    },
    {
     "name": "stdout",
     "output_type": "stream",
     "text": [
      "0\n"
     ]
    }
   ],
   "source": [
    "subject_ID_list = data_merged['SUBJECT_ID'].unique()\n",
    "print( sum(data_merged.groupby(['SUBJECT_ID'])['DISCHTIME'].nunique() != 1))\n",
    "print( sum(data_merged.groupby(['SUBJECT_ID'])['ADMITTIME'].nunique() != 1))\n",
    "print( sum(data_merged.groupby(['SUBJECT_ID'])['DEATHTIME'].nunique() > 1))"
   ]
  },
  {
   "cell_type": "code",
   "execution_count": 154,
   "metadata": {},
   "outputs": [],
   "source": [
    "CHARTTIMElist = data_merged.groupby(['SUBJECT_ID'])['CHARTTIME'].unique()\n",
    "ADMITTIMElist = data_merged.groupby(['SUBJECT_ID'])['ADMITTIME'].unique()\n",
    "DEATHTIMElist = data_merged.groupby(['SUBJECT_ID'])['DEATHTIME'].unique()\n",
    "DISCHTIMElist = data_merged.groupby(['SUBJECT_ID'])['DISCHTIME'].unique()"
   ]
  },
  {
   "cell_type": "code",
   "execution_count": 155,
   "metadata": {},
   "outputs": [],
   "source": [
    "sub_time_dictionary = {}\n",
    "for sub in subject_ID_list:\n",
    "    sub_time_dictionary[sub] = {}\n",
    "    sub_time_dictionary[sub]['CHARTTIME'] = CHARTTIMElist[sub]\n",
    "    sub_time_dictionary[sub]['ADMITTIME'] = ADMITTIMElist[sub]\n",
    "    sub_time_dictionary[sub]['DEATHTIME'] = DEATHTIMElist[sub]\n",
    "    sub_time_dictionary[sub]['DISCHTIME'] = DISCHTIMElist[sub]"
   ]
  },
  {
   "cell_type": "code",
   "execution_count": 179,
   "metadata": {},
   "outputs": [],
   "source": [
    "with open('patient_timesheet.pickle', 'rb') as handle:\n",
    "     sub_time_dictionary = pickle.load(handle)"
   ]
  },
  {
   "cell_type": "code",
   "execution_count": 163,
   "metadata": {},
   "outputs": [
    {
     "data": {
      "text/plain": [
       "4091"
      ]
     },
     "execution_count": 163,
     "metadata": {},
     "output_type": "execute_result"
    }
   ],
   "source": [
    "len(time_only['SUBJECT_ID'].unique())"
   ]
  },
  {
   "cell_type": "code",
   "execution_count": 207,
   "metadata": {
    "collapsed": true
   },
   "outputs": [],
   "source": []
  },
  {
   "cell_type": "code",
   "execution_count": 210,
   "metadata": {},
   "outputs": [],
   "source": [
    "subject_adult = valid_subject['SUBJECT_ID']"
   ]
  },
  {
   "cell_type": "code",
   "execution_count": 181,
   "metadata": {
    "collapsed": true
   },
   "outputs": [],
   "source": [
    "for sub in subject_ID_list:\n",
    "    sub_time_dictionary[sub]['CHARTTIME_valid'] = [x for x in sub_time_dictionary[sub]['CHARTTIME'] \n",
    "                                                   if x < sub_time_dictionary[sub]['DISCHTIME']]"
   ]
  },
  {
   "cell_type": "code",
   "execution_count": 227,
   "metadata": {},
   "outputs": [],
   "source": [
    "error_sub = []\n",
    "for sub in subject_ID_list:\n",
    "    try:\n",
    "        sub_time_dictionary[sub]['CHARTTIME_interval'] = (sub_time_dictionary[sub]['CHARTTIME_valid'] - \n",
    "                                                          sub_time_dictionary[sub]['ADMITTIME']).astype('timedelta64[m]')\n",
    "    except TypeError:\n",
    "        #print(sub)\n",
    "        error_sub.append(sub)"
   ]
  },
  {
   "cell_type": "code",
   "execution_count": 217,
   "metadata": {},
   "outputs": [
    {
     "name": "stderr",
     "output_type": "stream",
     "text": [
      "/Users/apple/anaconda3/lib/python3.5/site-packages/ipykernel/__main__.py:3: FutureWarning: In the future, 'NAT > x' and 'x > NAT' will always be False.\n",
      "  app.launch_new_instance()\n"
     ]
    }
   ],
   "source": [
    "error_adult = []\n",
    "for sub in error_sub:\n",
    "    if sub_time_dictionary[sub]['ADMITTIME'] > sub_time_dictionary[sub]['DEATHTIME'] and sub in subject_adult:\n",
    "        #print('error',sub)\n",
    "        error_adult.append(sub)\n",
    "    else:\n",
    "        pass\n",
    "    \n",
    "        #print(sub)"
   ]
  },
  {
   "cell_type": "code",
   "execution_count": 268,
   "metadata": {},
   "outputs": [],
   "source": [
    "time_interval = np.array([15, 6*60, 12*60, 24*60]).astype('timedelta64[m]')\n",
    "\n",
    "\n",
    "notes_counts = {}\n",
    "for sub in subject_ID_list:\n",
    "    try:\n",
    "        sub_list = np.zeros(5)\n",
    "        for interval in sub_time_dictionary[sub]['CHARTTIME_interval']:\n",
    "            if interval<=time_interval[0]:\n",
    "                sub_list[0] += 1\n",
    "            elif interval<=time_interval[1]:\n",
    "                sub_list[1] += 1\n",
    "            elif interval<=time_interval[2]:\n",
    "                sub_list[2] += 1\n",
    "            elif interval<=time_interval[3]:\n",
    "                sub_list[3] += 1\n",
    "            else:\n",
    "                sub_list[4] += 1\n",
    "        notes_counts[sub] = sub_list\n",
    "    except KeyError:\n",
    "        #print(sub)\n",
    "        #error_sub.append(sub)\n",
    "        pass    "
   ]
  },
  {
   "cell_type": "code",
   "execution_count": 269,
   "metadata": {
    "collapsed": true
   },
   "outputs": [],
   "source": [
    "notes_counts_table = pd.DataFrame(notes_counts).T"
   ]
  },
  {
   "cell_type": "code",
   "execution_count": 270,
   "metadata": {},
   "outputs": [],
   "source": [
    "notes_counts_table.columns  = ['15 minutes', '6 hours', '12 hours', '24 hours', 'Over 24 hours']"
   ]
  },
  {
   "cell_type": "code",
   "execution_count": 272,
   "metadata": {},
   "outputs": [
    {
     "data": {
      "text/plain": [
       "array([[<matplotlib.axes._subplots.AxesSubplot object at 0x23edb77b8>,\n",
       "        <matplotlib.axes._subplots.AxesSubplot object at 0x24505fb70>],\n",
       "       [<matplotlib.axes._subplots.AxesSubplot object at 0x24716c2b0>,\n",
       "        <matplotlib.axes._subplots.AxesSubplot object at 0x2473ea5c0>],\n",
       "       [<matplotlib.axes._subplots.AxesSubplot object at 0x2483748d0>,\n",
       "        <matplotlib.axes._subplots.AxesSubplot object at 0x2483b4400>]], dtype=object)"
      ]
     },
     "execution_count": 272,
     "metadata": {},
     "output_type": "execute_result"
    },
    {
     "data": {
      "image/png": "[encoded data removed]",
      "text/plain": [
       "<matplotlib.figure.Figure at 0x245040b38>"
      ]
     },
     "metadata": {},
     "output_type": "display_data"
    }
   ],
   "source": [
    "notes_counts_table.hist(figsize = (16,8), bins = 20)"
   ]
  },
  {
   "cell_type": "code",
   "execution_count": 292,
   "metadata": {},
   "outputs": [
    {
     "data": {
      "text/plain": [
       "<matplotlib.text.Text at 0x278e6a278>"
      ]
     },
     "execution_count": 292,
     "metadata": {},
     "output_type": "execute_result"
    },
    {
     "data": {
      "image/png": "[encoded data removed]",
      "text/plain": [
       "<matplotlib.figure.Figure at 0x278e6f908>"
      ]
     },
     "metadata": {},
     "output_type": "display_data"
    }
   ],
   "source": [
    "notes_counts_table['15 minutes'].value_counts().plot.bar(title = '15 minutes')\n",
    "plt.xlabel('number of notes')"
   ]
  },
  {
   "cell_type": "code",
   "execution_count": 293,
   "metadata": {},
   "outputs": [
    {
     "data": {
      "text/plain": [
       "<matplotlib.text.Text at 0x27928a470>"
      ]
     },
     "execution_count": 293,
     "metadata": {},
     "output_type": "execute_result"
    },
    {
     "data": {
      "image/png": "[encoded data removed]",
      "text/plain": [
       "<matplotlib.figure.Figure at 0x278e2e8d0>"
      ]
     },
     "metadata": {},
     "output_type": "display_data"
    }
   ],
   "source": [
    "notes_counts_table['6 hours'].value_counts().plot.bar(title = '6 hours')\n",
    "plt.xlabel('number of notes')\n"
   ]
  },
  {
   "cell_type": "code",
   "execution_count": 294,
   "metadata": {},
   "outputs": [
    {
     "data": {
      "text/plain": [
       "<matplotlib.text.Text at 0x2793957f0>"
      ]
     },
     "execution_count": 294,
     "metadata": {},
     "output_type": "execute_result"
    },
    {
     "data": {
      "image/png": "[encoded data removed]",
      "text/plain": [
       "<matplotlib.figure.Figure at 0x2794a62b0>"
      ]
     },
     "metadata": {},
     "output_type": "display_data"
    }
   ],
   "source": [
    "notes_counts_table['12 hours'].value_counts().plot.bar(title = '12 hours')\n",
    "plt.xlabel('number of notes')\n"
   ]
  },
  {
   "cell_type": "code",
   "execution_count": 295,
   "metadata": {},
   "outputs": [
    {
     "data": {
      "text/plain": [
       "<matplotlib.text.Text at 0x2795f9e80>"
      ]
     },
     "execution_count": 295,
     "metadata": {},
     "output_type": "execute_result"
    },
    {
     "data": {
      "image/png": "[encoded data removed]",
      "text/plain": [
       "<matplotlib.figure.Figure at 0x278d61828>"
      ]
     },
     "metadata": {},
     "output_type": "display_data"
    }
   ],
   "source": [
    "notes_counts_table['24 hours'].value_counts().plot.bar(title = '24 hours')\n",
    "plt.xlabel('number of notes')\n",
    "\n",
    "\n"
   ]
  },
  {
   "cell_type": "code",
   "execution_count": 296,
   "metadata": {},
   "outputs": [
    {
     "data": {
      "text/plain": [
       "<matplotlib.axes._subplots.AxesSubplot at 0x2797e05f8>"
      ]
     },
     "execution_count": 296,
     "metadata": {},
     "output_type": "execute_result"
    },
    {
     "data": {
      "image/png": "[encoded data removed]",
      "text/plain": [
       "<matplotlib.figure.Figure at 0x279934b00>"
      ]
     },
     "metadata": {},
     "output_type": "display_data"
    }
   ],
   "source": [
    "notes_counts_table.sum(1).hist(bins = 30)"
   ]
  },
  {
   "cell_type": "code",
   "execution_count": 291,
   "metadata": {},
   "outputs": [
    {
     "data": {
      "text/plain": [
       "5258"
      ]
     },
     "execution_count": 291,
     "metadata": {},
     "output_type": "execute_result"
    }
   ],
   "source": [
    "sum(notes_counts_table.sum(1) < 3)"
   ]
  },
  {
   "cell_type": "code",
   "execution_count": 287,
   "metadata": {},
   "outputs": [
    {
     "data": {
      "text/plain": [
       "44445"
      ]
     },
     "execution_count": 287,
     "metadata": {},
     "output_type": "execute_result"
    }
   ],
   "source": [
    "len(notes_counts_table)"
   ]
  },
  {
   "cell_type": "code",
   "execution_count": 297,
   "metadata": {},
   "outputs": [
    {
     "data": {
      "text/plain": [
       "15 minutes        33746.0\n",
       "6 hours           50517.0\n",
       "12 hours          37798.0\n",
       "24 hours          65706.0\n",
       "Over 24 hours    912799.0\n",
       "dtype: float64"
      ]
     },
     "execution_count": 297,
     "metadata": {},
     "output_type": "execute_result"
    }
   ],
   "source": [
    "notes_counts_table.sum(0)"
   ]
  },
  {
   "cell_type": "code",
   "execution_count": 305,
   "metadata": {},
   "outputs": [],
   "source": [
    "notes_counts_table['SUBJECT_ID'] = notes_counts_table.index"
   ]
  },
  {
   "cell_type": "code",
   "execution_count": 301,
   "metadata": {},
   "outputs": [
    {
     "data": {
      "text/plain": [
       "16830"
      ]
     },
     "execution_count": 301,
     "metadata": {},
     "output_type": "execute_result"
    }
   ],
   "source": [
    "np.sum(notes_counts_table['15 minutes']>0)"
   ]
  },
  {
   "cell_type": "code",
   "execution_count": 307,
   "metadata": {},
   "outputs": [],
   "source": [
    "with_death = pd.merge(notes_counts_table, valid_subject, how = 'left', on = ['SUBJECT_ID'])"
   ]
  },
  {
   "cell_type": "code",
   "execution_count": 311,
   "metadata": {},
   "outputs": [],
   "source": [
    "with_death = with_death[~pd.isnull(with_death['DEATHTIME'])]"
   ]
  },
  {
   "cell_type": "code",
   "execution_count": 312,
   "metadata": {},
   "outputs": [
    {
     "data": {
      "text/plain": [
       "15 minutes                                                    4843\n",
       "6 hours                                                       4887\n",
       "12 hours                                                      4300\n",
       "24 hours                                                      7678\n",
       "Over 24 hours                                               126723\n",
       "SUBJECT_ID                                               156070067\n",
       "DEATHTIME        2149-11-14 10:15:002104-08-20 02:57:002135-02-...\n",
       "dtype: object"
      ]
     },
     "execution_count": 312,
     "metadata": {},
     "output_type": "execute_result"
    }
   ],
   "source": [
    "with_death.sum(0)"
   ]
  },
  {
   "cell_type": "code",
   "execution_count": 313,
   "metadata": {},
   "outputs": [
    {
     "data": {
      "text/plain": [
       "0.14351330528062586"
      ]
     },
     "execution_count": 313,
     "metadata": {},
     "output_type": "execute_result"
    }
   ],
   "source": [
    "4843/33746"
   ]
  },
  {
   "cell_type": "code",
   "execution_count": null,
   "metadata": {
    "collapsed": true
   },
   "outputs": [],
   "source": []
  }
 ],
 "metadata": {
  "anaconda-cloud": {},
  "kernelspec": {
   "display_name": "Python [Root]",
   "language": "python",
   "name": "Python [Root]"
  },
  "language_info": {
   "codemirror_mode": {
    "name": "ipython",
    "version": 3
   },
   "file_extension": ".py",
   "mimetype": "text/x-python",
   "name": "python",
   "nbconvert_exporter": "python",
   "pygments_lexer": "ipython3",
   "version": "3.5.2"
  }
 },
 "nbformat": 4,
 "nbformat_minor": 2
}
