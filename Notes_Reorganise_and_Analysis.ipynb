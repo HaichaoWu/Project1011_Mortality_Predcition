{
 "cells": [
  {
   "cell_type": "code",
   "execution_count": 7,
   "metadata": {
    "collapsed": true
   },
   "outputs": [],
   "source": [
    "import pandas as pd\n",
    "from dateutil import parser\n",
    "import matplotlib.pyplot as plt\n",
    "import numpy as np\n",
    "% matplotlib inline\n",
    "import pickle"
   ]
  },
  {
   "cell_type": "code",
   "execution_count": 3,
   "metadata": {},
   "outputs": [],
   "source": [
    "import pandas as pd\n",
    "admission_table=pd.read_csv('data/ADMISSIONS.csv')\n",
    "notes_table=pd.read_csv('data/NOTEEVENTS.csv')\n",
    "data_merged = pd.merge(notes_table, admission_table, how='left', on=['SUBJECT_ID', 'HADM_ID'])"
   ]
  },
  {
   "cell_type": "code",
   "execution_count": 83,
   "metadata": {},
   "outputs": [
    {
     "name": "stderr",
     "output_type": "stream",
     "text": [
      "/Users/apple/anaconda3/lib/python3.5/site-packages/ipykernel/__main__.py:2: SettingWithCopyWarning: \n",
      "A value is trying to be set on a copy of a slice from a DataFrame.\n",
      "Try using .loc[row_indexer,col_indexer] = value instead\n",
      "\n",
      "See the caveats in the documentation: http://pandas.pydata.org/pandas-docs/stable/indexing.html#indexing-view-versus-copy\n",
      "  from ipykernel import kernelapp as app\n"
     ]
    },
    {
     "name": "stdout",
     "output_type": "stream",
     "text": [
      "DEATHTIME\n"
     ]
    },
    {
     "name": "stderr",
     "output_type": "stream",
     "text": [
      "/Users/apple/anaconda3/lib/python3.5/site-packages/ipykernel/__main__.py:3: SettingWithCopyWarning: \n",
      "A value is trying to be set on a copy of a slice from a DataFrame.\n",
      "Try using .loc[row_indexer,col_indexer] = value instead\n",
      "\n",
      "See the caveats in the documentation: http://pandas.pydata.org/pandas-docs/stable/indexing.html#indexing-view-versus-copy\n",
      "  app.launch_new_instance()\n"
     ]
    }
   ],
   "source": [
    "notes_table_useful = notes_table[notes_table['SUBJECT_ID'].isin(valid_sub_final)]\n",
    "notes_table_useful['CHARTTIME']= [parser.parse(x) if type(x)!=float else x for x in notes_table_useful['CHARTTIME']]\n",
    "notes_table_useful['CHARTTIME'] = pd.to_datetime(notes_table_useful['CHARTTIME'])\n",
    "print('DEATHTIME')"
   ]
  },
  {
   "cell_type": "code",
   "execution_count": 4,
   "metadata": {
    "collapsed": true
   },
   "outputs": [],
   "source": [
    "valid_subject = pd.read_csv('data/id_inhospital_deathtime.csv', index_col = 0)"
   ]
  },
  {
   "cell_type": "code",
   "execution_count": null,
   "metadata": {
    "collapsed": true
   },
   "outputs": [],
   "source": [
    "# take the first addmission time \n",
    "admission_table['ADMITTIME']=admission_table['ADMITTIME'].map(lambda x: parser.parse(x))\n",
    "sub_hops_admission = admission_table.groupby(['SUBJECT_ID'])['ADMITTIME'].unique()\n",
    "sub_hops_admission = sub_hops_admission.map(lambda x: sorted(x)[0])"
   ]
  },
  {
   "cell_type": "code",
   "execution_count": null,
   "metadata": {
    "collapsed": true
   },
   "outputs": [],
   "source": [
    "first_adm = pd.DataFrame({'SUBJECT_ID': sub_hops_admission.index,'ADMITTIME':sub_hops_admission.values })\n",
    "first_adm = pd.merge(first_adm, admission_table, how = 'left', on = ['SUBJECT_ID','ADMITTIME' ] )\n",
    "id_first = set(first_adm['HADM_ID'])\n",
    "label = [x in id_first for x in data_merged['HADM_ID'] ]"
   ]
  },
  {
   "cell_type": "code",
   "execution_count": null,
   "metadata": {},
   "outputs": [],
   "source": [
    "len(first_adm)"
   ]
  },
  {
   "cell_type": "code",
   "execution_count": null,
   "metadata": {
    "collapsed": true
   },
   "outputs": [],
   "source": [
    "data_merged = data_merged[label]"
   ]
  },
  {
   "cell_type": "code",
   "execution_count": null,
   "metadata": {},
   "outputs": [],
   "source": [
    "len(data_merged)"
   ]
  },
  {
   "cell_type": "code",
   "execution_count": null,
   "metadata": {},
   "outputs": [],
   "source": [
    "len(notes_table)"
   ]
  },
  {
   "cell_type": "code",
   "execution_count": null,
   "metadata": {
    "collapsed": true
   },
   "outputs": [],
   "source": [
    "data_merged = data_merged[~pd.isnull(data_merged['CHARTTIME'])]"
   ]
  },
  {
   "cell_type": "code",
   "execution_count": null,
   "metadata": {},
   "outputs": [],
   "source": [
    "len(data_merged)"
   ]
  },
  {
   "cell_type": "code",
   "execution_count": null,
   "metadata": {},
   "outputs": [],
   "source": [
    "data_merged.columns"
   ]
  },
  {
   "cell_type": "code",
   "execution_count": null,
   "metadata": {},
   "outputs": [],
   "source": [
    "data_merged['DISCHARGE_LOCATION'].unique()"
   ]
  },
  {
   "cell_type": "code",
   "execution_count": null,
   "metadata": {},
   "outputs": [],
   "source": [
    "data_merged['CATEGORY'].unique()"
   ]
  },
  {
   "cell_type": "code",
   "execution_count": null,
   "metadata": {},
   "outputs": [],
   "source": [
    "sum(pd.isnull(data_merged['DEATHTIME']))/len(data_merged)"
   ]
  },
  {
   "cell_type": "code",
   "execution_count": null,
   "metadata": {},
   "outputs": [],
   "source": [
    "type(data_merged['DEATHTIME'][308691])"
   ]
  },
  {
   "cell_type": "code",
   "execution_count": null,
   "metadata": {},
   "outputs": [],
   "source": [
    "data_merged['DEATHTIME']= [parser.parse(x) if type(x)!=float else x for x in data_merged['DEATHTIME']]\n",
    "data_merged['DEATHTIME'] = pd.to_datetime(data_merged['DEATHTIME'])\n",
    "print('DEATHTIME')"
   ]
  },
  {
   "cell_type": "code",
   "execution_count": null,
   "metadata": {},
   "outputs": [],
   "source": [
    "data_merged['ADMITTIME']=data_merged['ADMITTIME'].map(lambda x: parser.parse(x))\n",
    "print('ADMITTIME')\n",
    "data_merged['DISCHTIME']=data_merged['DISCHTIME'].map(lambda x: parser.parse(x))\n",
    "print('DISCHTIME')\n",
    "data_merged['CHARTTIME']=data_merged['CHARTTIME'].map(lambda x: parser.parse(x))\n",
    "print('CHARTTIME')"
   ]
  },
  {
   "cell_type": "code",
   "execution_count": null,
   "metadata": {},
   "outputs": [],
   "source": [
    "time_only = data_merged[~pd.isnull(data_merged['DEATHTIME'])][['SUBJECT_ID','CHARTTIME', 'DISCHTIME','DEATHTIME']]\n",
    "len(time_only[time_only['DEATHTIME'] != time_only['DISCHTIME']]['SUBJECT_ID'].unique())"
   ]
  },
  {
   "cell_type": "code",
   "execution_count": null,
   "metadata": {},
   "outputs": [],
   "source": [
    "subject_ID_list = data_merged['SUBJECT_ID'].unique()\n",
    "print( sum(data_merged.groupby(['SUBJECT_ID'])['DISCHTIME'].nunique() != 1))\n",
    "print( sum(data_merged.groupby(['SUBJECT_ID'])['ADMITTIME'].nunique() != 1))\n",
    "print( sum(data_merged.groupby(['SUBJECT_ID'])['DEATHTIME'].nunique() > 1))"
   ]
  },
  {
   "cell_type": "code",
   "execution_count": 154,
   "metadata": {
    "collapsed": true
   },
   "outputs": [],
   "source": [
    "CHARTTIMElist = data_merged.groupby(['SUBJECT_ID'])['CHARTTIME'].unique()\n",
    "ADMITTIMElist = data_merged.groupby(['SUBJECT_ID'])['ADMITTIME'].unique()\n",
    "DEATHTIMElist = data_merged.groupby(['SUBJECT_ID'])['DEATHTIME'].unique()\n",
    "DISCHTIMElist = data_merged.groupby(['SUBJECT_ID'])['DISCHTIME'].unique()"
   ]
  },
  {
   "cell_type": "code",
   "execution_count": 155,
   "metadata": {
    "collapsed": true
   },
   "outputs": [],
   "source": [
    "sub_time_dictionary = {}\n",
    "for sub in subject_ID_list:\n",
    "    sub_time_dictionary[sub] = {}\n",
    "    sub_time_dictionary[sub]['CHARTTIME'] = CHARTTIMElist[sub]\n",
    "    sub_time_dictionary[sub]['ADMITTIME'] = ADMITTIMElist[sub]\n",
    "    sub_time_dictionary[sub]['DEATHTIME'] = DEATHTIMElist[sub]\n",
    "    sub_time_dictionary[sub]['DISCHTIME'] = DISCHTIMElist[sub]"
   ]
  },
  {
   "cell_type": "code",
   "execution_count": 163,
   "metadata": {},
   "outputs": [
    {
     "data": {
      "text/plain": [
       "4091"
      ]
     },
     "execution_count": 163,
     "metadata": {},
     "output_type": "execute_result"
    }
   ],
   "source": [
    "len(time_only['SUBJECT_ID'].unique())"
   ]
  },
  {
   "cell_type": "code",
   "execution_count": 207,
   "metadata": {
    "collapsed": true
   },
   "outputs": [],
   "source": []
  },
  {
   "cell_type": "code",
   "execution_count": 210,
   "metadata": {
    "collapsed": true
   },
   "outputs": [],
   "source": [
    "subject_adult = valid_subject['SUBJECT_ID']"
   ]
  },
  {
   "cell_type": "code",
   "execution_count": 181,
   "metadata": {
    "collapsed": true
   },
   "outputs": [],
   "source": [
    "for sub in subject_ID_list:\n",
    "    sub_time_dictionary[sub]['CHARTTIME_valid'] = [x for x in sub_time_dictionary[sub]['CHARTTIME'] \n",
    "                                                   if x < sub_time_dictionary[sub]['DISCHTIME']]"
   ]
  },
  {
   "cell_type": "code",
   "execution_count": 227,
   "metadata": {
    "collapsed": true
   },
   "outputs": [],
   "source": [
    "error_sub = []\n",
    "for sub in subject_ID_list:\n",
    "    try:\n",
    "        sub_time_dictionary[sub]['CHARTTIME_interval'] = (sub_time_dictionary[sub]['CHARTTIME_valid'] - \n",
    "                                                          sub_time_dictionary[sub]['ADMITTIME']).astype('timedelta64[m]')\n",
    "    except TypeError:\n",
    "        #print(sub)\n",
    "        error_sub.append(sub)"
   ]
  },
  {
   "cell_type": "code",
   "execution_count": 217,
   "metadata": {},
   "outputs": [
    {
     "name": "stderr",
     "output_type": "stream",
     "text": [
      "/Users/apple/anaconda3/lib/python3.5/site-packages/ipykernel/__main__.py:3: FutureWarning: In the future, 'NAT > x' and 'x > NAT' will always be False.\n",
      "  app.launch_new_instance()\n"
     ]
    }
   ],
   "source": [
    "error_adult = []\n",
    "for sub in error_sub:\n",
    "    if sub_time_dictionary[sub]['ADMITTIME'] > sub_time_dictionary[sub]['DEATHTIME'] and sub in subject_adult:\n",
    "        #print('error',sub)\n",
    "        error_adult.append(sub)\n",
    "    else:\n",
    "        pass\n",
    "    \n",
    "        #print(sub)"
   ]
  },
  {
   "cell_type": "code",
   "execution_count": 47,
   "metadata": {
    "collapsed": true
   },
   "outputs": [],
   "source": [
    "time_interval = np.array([15, 6*60, 12*60, 24*60]).astype('timedelta64[m]')\n",
    "\n",
    "subject_ID_list = valid_subject['SUBJECT_ID']\n",
    "notes_counts = {}\n",
    "for sub in valid_sub_final:\n",
    "    try:\n",
    "        sub_list = np.zeros(5)\n",
    "        for interval in sub_time_dictionary_final[sub]['CHARTTIME_interval']:\n",
    "            if interval<=time_interval[0]:\n",
    "                sub_list[0] += 1\n",
    "            elif interval<=time_interval[1]:\n",
    "                sub_list[1] += 1\n",
    "            elif interval<=time_interval[2]:\n",
    "                sub_list[2] += 1\n",
    "            elif interval<=time_interval[3]:\n",
    "                sub_list[3] += 1\n",
    "            else:\n",
    "                sub_list[4] += 1\n",
    "        notes_counts[sub] = sub_list\n",
    "    except KeyError:\n",
    "        #print(sub)\n",
    "        #error_sub.append(sub)\n",
    "        pass    "
   ]
  },
  {
   "cell_type": "code",
   "execution_count": 48,
   "metadata": {
    "collapsed": true
   },
   "outputs": [],
   "source": [
    "notes_counts_table = pd.DataFrame(notes_counts).T"
   ]
  },
  {
   "cell_type": "code",
   "execution_count": 50,
   "metadata": {},
   "outputs": [],
   "source": [
    "notes_counts_table.columns  = ['15 minutes', '6 hours', '12 hours', '24 hours', 'Over 24 hours']"
   ]
  },
  {
   "cell_type": "code",
   "execution_count": 119,
   "metadata": {},
   "outputs": [],
   "source": [
    "#notes_counts_table.hist(figsize = (16,8), bins = 20)"
   ]
  },
  {
   "cell_type": "code",
   "execution_count": 52,
   "metadata": {},
   "outputs": [
    {
     "data": {
      "text/plain": [
       "<matplotlib.text.Text at 0x13a75eb00>"
      ]
     },
     "execution_count": 52,
     "metadata": {},
     "output_type": "execute_result"
    },
    {
     "data": {
      "image/png": "[encoded data removed]",
      "text/plain": [
       "<matplotlib.figure.Figure at 0x15751c748>"
      ]
     },
     "metadata": {},
     "output_type": "display_data"
    }
   ],
   "source": [
    "notes_counts_table['15 minutes'].value_counts().plot.bar(title = '15 minutes')\n",
    "plt.xlabel('number of notes')"
   ]
  },
  {
   "cell_type": "code",
   "execution_count": 53,
   "metadata": {},
   "outputs": [
    {
     "data": {
      "text/plain": [
       "<matplotlib.text.Text at 0x1570ae710>"
      ]
     },
     "execution_count": 53,
     "metadata": {},
     "output_type": "execute_result"
    },
    {
     "data": {
      "image/png": "[encoded data removed]",
      "text/plain": [
       "<matplotlib.figure.Figure at 0x13c6dcba8>"
      ]
     },
     "metadata": {},
     "output_type": "display_data"
    }
   ],
   "source": [
    "notes_counts_table['6 hours'].value_counts().plot.bar(title = '6 hours')\n",
    "plt.xlabel('number of notes')\n"
   ]
  },
  {
   "cell_type": "code",
   "execution_count": 54,
   "metadata": {},
   "outputs": [
    {
     "data": {
      "text/plain": [
       "<matplotlib.text.Text at 0x13c6eceb8>"
      ]
     },
     "execution_count": 54,
     "metadata": {},
     "output_type": "execute_result"
    },
    {
     "data": {
      "image/png": "[encoded data removed]",
      "text/plain": [
       "<matplotlib.figure.Figure at 0x150ecdfd0>"
      ]
     },
     "metadata": {},
     "output_type": "display_data"
    }
   ],
   "source": [
    "notes_counts_table['12 hours'].value_counts().plot.bar(title = '12 hours')\n",
    "plt.xlabel('number of notes')\n"
   ]
  },
  {
   "cell_type": "code",
   "execution_count": 55,
   "metadata": {},
   "outputs": [
    {
     "data": {
      "text/plain": [
       "<matplotlib.text.Text at 0x1505af4a8>"
      ]
     },
     "execution_count": 55,
     "metadata": {},
     "output_type": "execute_result"
    },
    {
     "data": {
      "image/png": "[encoded data removed]",
      "text/plain": [
       "<matplotlib.figure.Figure at 0x1505bcef0>"
      ]
     },
     "metadata": {},
     "output_type": "display_data"
    }
   ],
   "source": [
    "notes_counts_table['24 hours'].value_counts().plot.bar(title = '24 hours')\n",
    "plt.xlabel('number of notes')\n",
    "\n",
    "\n"
   ]
  },
  {
   "cell_type": "code",
   "execution_count": 69,
   "metadata": {},
   "outputs": [
    {
     "data": {
      "text/plain": [
       "<matplotlib.text.Text at 0x15709ccf8>"
      ]
     },
     "execution_count": 69,
     "metadata": {},
     "output_type": "execute_result"
    },
    {
     "data": {
      "image/png": "[encoded data removed]",
      "text/plain": [
       "<matplotlib.figure.Figure at 0x140ea3eb8>"
      ]
     },
     "metadata": {},
     "output_type": "display_data"
    }
   ],
   "source": [
    "notes_counts_table.sum(1).hist(bins = 40)\n",
    "plt.title('Number of notes per person')"
   ]
  },
  {
   "cell_type": "code",
   "execution_count": 73,
   "metadata": {},
   "outputs": [
    {
     "data": {
      "text/plain": [
       "('Number of subjects with less than 3 notes:', 331)"
      ]
     },
     "execution_count": 73,
     "metadata": {},
     "output_type": "execute_result"
    }
   ],
   "source": [
    "'Number of subjects with less than 3 notes:', sum(notes_counts_table.sum(1) < 3)"
   ]
  },
  {
   "cell_type": "code",
   "execution_count": 118,
   "metadata": {},
   "outputs": [
    {
     "data": {
      "text/plain": [
       "('NUmber of subjects : ', 4769)"
      ]
     },
     "execution_count": 118,
     "metadata": {},
     "output_type": "execute_result"
    }
   ],
   "source": [
    "'NUmber of subjects : ', len(notes_counts_table)"
   ]
  },
  {
   "cell_type": "code",
   "execution_count": 116,
   "metadata": {},
   "outputs": [
    {
     "name": "stdout",
     "output_type": "stream",
     "text": [
      "Number of notes:\n"
     ]
    },
    {
     "data": {
      "text/plain": [
       "15 minutes            4825.0\n",
       "6 hours               4890.0\n",
       "12 hours              4292.0\n",
       "24 hours              7658.0\n",
       "Over 24 hours       126689.0\n",
       "SUBJECT_ID       156360600.0\n",
       "dtype: float64"
      ]
     },
     "execution_count": 116,
     "metadata": {},
     "output_type": "execute_result"
    }
   ],
   "source": [
    "print('Number of notes:')\n",
    "notes_counts_table.sum(0)"
   ]
  },
  {
   "cell_type": "code",
   "execution_count": 117,
   "metadata": {},
   "outputs": [
    {
     "name": "stdout",
     "output_type": "stream",
     "text": [
      "Number of patients:\n"
     ]
    },
    {
     "data": {
      "text/plain": [
       "15 minutes       2460\n",
       "6 hours          2726\n",
       "12 hours         2426\n",
       "24 hours         3218\n",
       "Over 24 hours    3994\n",
       "SUBJECT_ID       4769\n",
       "dtype: int64"
      ]
     },
     "execution_count": 117,
     "metadata": {},
     "output_type": "execute_result"
    }
   ],
   "source": [
    "print('Number of patients:')\n",
    "(notes_counts_table>0).sum(0)"
   ]
  },
  {
   "cell_type": "code",
   "execution_count": 109,
   "metadata": {
    "collapsed": true
   },
   "outputs": [],
   "source": [
    "notes_counts_table['SUBJECT_ID'] = notes_counts_table.index"
   ]
  },
  {
   "cell_type": "code",
   "execution_count": 76,
   "metadata": {},
   "outputs": [
    {
     "data": {
      "text/plain": [
       "0.14132045279440525"
      ]
     },
     "execution_count": 76,
     "metadata": {},
     "output_type": "execute_result"
    }
   ],
   "source": [
    "4769/33746"
   ]
  },
  {
   "cell_type": "code",
   "execution_count": 14,
   "metadata": {},
   "outputs": [],
   "source": [
    "valid_subject['DEATHTIME']= [parser.parse(x) if type(x)!=float else x for x in valid_subject['DEATHTIME']]\n",
    "valid_subject['DEATHTIME'] = pd.to_datetime(valid_subject['DEATHTIME'])"
   ]
  },
  {
   "cell_type": "code",
   "execution_count": 23,
   "metadata": {},
   "outputs": [],
   "source": [
    "for sub in valid_subject['SUBJECT_ID']:\n",
    "    sub_time_dictionary[sub]['DEATHTIME'] = np.array(valid_subject[valid_subject['SUBJECT_ID'] == sub]['DEATHTIME'])"
   ]
  },
  {
   "cell_type": "code",
   "execution_count": 8,
   "metadata": {},
   "outputs": [],
   "source": [
    "with open('data/patient_timesheet.pickle', 'rb') as handle:\n",
    "     sub_time_dictionary = pickle.load(handle)"
   ]
  },
  {
   "cell_type": "code",
   "execution_count": 32,
   "metadata": {},
   "outputs": [],
   "source": [
    "valid_sub_final = set(sub_time_dictionary.keys()) & set(valid_subject['SUBJECT_ID']) "
   ]
  },
  {
   "cell_type": "code",
   "execution_count": 33,
   "metadata": {
    "collapsed": true
   },
   "outputs": [],
   "source": [
    "sub_time_dictionary_final = {}\n",
    "for sub in valid_sub_final:\n",
    "    sub_time_dictionary_final[sub] = sub_time_dictionary[sub]"
   ]
  },
  {
   "cell_type": "code",
   "execution_count": 135,
   "metadata": {},
   "outputs": [],
   "source": [
    "#sub_time_dictionary_final"
   ]
  },
  {
   "cell_type": "code",
   "execution_count": 77,
   "metadata": {},
   "outputs": [],
   "source": [
    "with open('data/patient_timesheet_final.pickle', 'wb') as handle:\n",
    "    pickle.dump(sub_time_dictionary_final, handle)\n",
    "        "
   ]
  },
  {
   "cell_type": "code",
   "execution_count": 44,
   "metadata": {},
   "outputs": [],
   "source": [
    "for sub in valid_sub_final:\n",
    "    sub_time_dictionary_final[sub]['CHARTTIME_valid'] = [x for x in sub_time_dictionary_final[sub]['CHARTTIME'] \n",
    "                                                   if x < sub_time_dictionary_final[sub]['DISCHTIME']]\n",
    "    \n",
    "error_sub = []\n",
    "for sub in valid_sub_final:\n",
    "    try:\n",
    "        sub_time_dictionary_final[sub]['CHARTTIME_interval'] = (sub_time_dictionary_final[sub]['CHARTTIME_valid'] - \n",
    "                                                          sub_time_dictionary_final[sub]['ADMITTIME']).astype('timedelta64[m]')\n",
    "    except TypeError:\n",
    "        #print(sub)\n",
    "        error_sub.append(sub)"
   ]
  },
  {
   "cell_type": "code",
   "execution_count": 88,
   "metadata": {},
   "outputs": [],
   "source": [
    "notes_table_useful = notes_table_useful[~pd.isnull(notes_table_useful['CHARTTIME'])]"
   ]
  },
  {
   "cell_type": "code",
   "execution_count": 85,
   "metadata": {},
   "outputs": [
    {
     "ename": "KeyError",
     "evalue": "'CHARTTIME'",
     "output_type": "error",
     "traceback": [
      "\u001b[0;31m---------------------------------------------------------------------------\u001b[0m",
      "\u001b[0;31mKeyError\u001b[0m                                  Traceback (most recent call last)",
      "\u001b[0;32m<ipython-input-85-d27479a8a8cf>\u001b[0m in \u001b[0;36m<module>\u001b[0;34m()\u001b[0m\n\u001b[1;32m      1\u001b[0m \u001b[0;32mfor\u001b[0m \u001b[0msub\u001b[0m \u001b[0;32min\u001b[0m \u001b[0msub_time_dictionary_final\u001b[0m\u001b[0;34m:\u001b[0m\u001b[0;34m\u001b[0m\u001b[0m\n\u001b[0;32m----> 2\u001b[0;31m     \u001b[0;32mfor\u001b[0m \u001b[0mcharttime\u001b[0m \u001b[0;32min\u001b[0m \u001b[0msub_time_dictionary_final\u001b[0m\u001b[0;34m[\u001b[0m\u001b[0;34m'CHARTTIME'\u001b[0m\u001b[0;34m]\u001b[0m\u001b[0;34m:\u001b[0m\u001b[0;34m\u001b[0m\u001b[0m\n\u001b[0m\u001b[1;32m      3\u001b[0m         \u001b[0mnotes_table_useful\u001b[0m\u001b[0;34m[\u001b[0m\u001b[0mnotes_table_useful\u001b[0m\u001b[0;34m[\u001b[0m\u001b[0;34m'SUBJECT_ID'\u001b[0m\u001b[0;34m]\u001b[0m \u001b[0;34m==\u001b[0m \u001b[0msub\u001b[0m\u001b[0;34m]\u001b[0m\u001b[0;34m[\u001b[0m\u001b[0mnotes_table_useful\u001b[0m\u001b[0;34m[\u001b[0m\u001b[0;34m'CHARTTIME'\u001b[0m\u001b[0;34m]\u001b[0m \u001b[0;34m==\u001b[0m \u001b[0mcharttime\u001b[0m\u001b[0;34m]\u001b[0m\u001b[0;34m\u001b[0m\u001b[0m\n",
      "\u001b[0;31mKeyError\u001b[0m: 'CHARTTIME'"
     ]
    }
   ],
   "source": [
    "sub_for_table = []\n",
    "charttime_for_table = []\n",
    "for sub in sub_time_dictionary_final:\n",
    "    for charttime in sub_time_dictionary_final[sub]['CHARTTIME']:\n",
    "        notes_table_useful[notes_table_useful['SUBJECT_ID'] == sub][notes_table_useful['CHARTTIME'] == charttime]['TEXT']\n",
    "        "
   ]
  },
  {
   "cell_type": "code",
   "execution_count": 95,
   "metadata": {},
   "outputs": [],
   "source": [
    "documents = list(notes_table_useful['TEXT'])"
   ]
  },
  {
   "cell_type": "code",
   "execution_count": 91,
   "metadata": {
    "collapsed": true
   },
   "outputs": [],
   "source": [
    "def find_unique_identification(documents):\n",
    "    '''\n",
    "    final all unique identification \n",
    "\n",
    "    Returns:\n",
    "       A list of unique identications\n",
    "    '''\n",
    "    identifications = []\n",
    "    for note in documents:\n",
    "        i = 0\n",
    "        while i <len(note):\n",
    "            if note[i] == '[' and note[i+1] == '*':\n",
    "                j = i+1\n",
    "                while note[j-1] != '*' or note[j] != ']':\n",
    "                    j+=1\n",
    "                identifications.append(note[i:j+1])\n",
    "            i+=1\n",
    "    return list(set(identifications))"
   ]
  },
  {
   "cell_type": "code",
   "execution_count": 103,
   "metadata": {},
   "outputs": [],
   "source": [
    "unique_iden = find_unique_identification(documents)"
   ]
  },
  {
   "cell_type": "code",
   "execution_count": 124,
   "metadata": {},
   "outputs": [
    {
     "data": {
      "text/plain": [
       "156904"
      ]
     },
     "execution_count": 124,
     "metadata": {},
     "output_type": "execute_result"
    }
   ],
   "source": [
    "len(unique_iden)"
   ]
  },
  {
   "cell_type": "code",
   "execution_count": 132,
   "metadata": {},
   "outputs": [],
   "source": [
    "#sorted(unique_iden)[1000:2000]"
   ]
  },
  {
   "cell_type": "code",
   "execution_count": 133,
   "metadata": {
    "collapsed": true
   },
   "outputs": [],
   "source": [
    "iden_list = [x[3:-3] for x in unique_iden]"
   ]
  },
  {
   "cell_type": "code",
   "execution_count": 134,
   "metadata": {
    "scrolled": false
   },
   "outputs": [],
   "source": [
    "#iden_list"
   ]
  },
  {
   "cell_type": "code",
   "execution_count": null,
   "metadata": {
    "collapsed": true
   },
   "outputs": [],
   "source": []
  }
 ],
 "metadata": {
  "anaconda-cloud": {},
  "kernelspec": {
   "display_name": "Python [Root]",
   "language": "python",
   "name": "Python [Root]"
  },
  "language_info": {
   "codemirror_mode": {
    "name": "ipython",
    "version": 3
   },
   "file_extension": ".py",
   "mimetype": "text/x-python",
   "name": "python",
   "nbconvert_exporter": "python",
   "pygments_lexer": "ipython3",
   "version": "3.5.2"
  }
 },
 "nbformat": 4,
 "nbformat_minor": 2
}
