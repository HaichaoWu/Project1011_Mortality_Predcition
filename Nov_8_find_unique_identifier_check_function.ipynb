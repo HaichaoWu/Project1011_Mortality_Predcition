{
 "cells": [
  {
   "cell_type": "markdown",
   "metadata": {},
   "source": [
    "### This is to output the different types of deidentifier and explore the token choice"
   ]
  },
  {
   "cell_type": "code",
   "execution_count": 1,
   "metadata": {
    "collapsed": true
   },
   "outputs": [],
   "source": [
    "import os\n",
    "import unicodedata\n",
    "import re\n",
    "from string import punctuation\n",
    "import spacy\n",
    "from spacy.en import English\n",
    "import io\n",
    "from sklearn.metrics import precision_recall_fscore_support\n",
    "import pandas as pd\n",
    "import numpy as np\n",
    "pd.options.display.max_rows = 999"
   ]
  },
  {
   "cell_type": "code",
   "execution_count": 2,
   "metadata": {
    "collapsed": false
   },
   "outputs": [
    {
     "name": "stderr",
     "output_type": "stream",
     "text": [
      "/Applications/anaconda/lib/python3.6/site-packages/IPython/core/interactiveshell.py:2717: DtypeWarning: Columns (4,5) have mixed types. Specify dtype option on import or set low_memory=False.\n",
      "  interactivity=interactivity, compiler=compiler, result=result)\n"
     ]
    }
   ],
   "source": [
    "df=pd.read_csv('/Users/leilei/Documents/DS1011Project/NOTEEVENTS.csv')"
   ]
  },
  {
   "cell_type": "code",
   "execution_count": 3,
   "metadata": {
    "collapsed": true
   },
   "outputs": [],
   "source": [
    "nlp = spacy.load('en')\n",
    "parser = English()"
   ]
  },
  {
   "cell_type": "code",
   "execution_count": 8,
   "metadata": {
    "collapsed": false
   },
   "outputs": [
    {
     "name": "stdout",
     "output_type": "stream",
     "text": [
      "Admission\n",
      "Date\n",
      ":\n",
      " \n",
      "[\n",
      "_\n",
      "_\n",
      "2118\n",
      "-\n",
      "6\n",
      "-\n",
      "2\n",
      "_\n",
      "_\n",
      "]\n"
     ]
    }
   ],
   "source": [
    "parsed=parser(df.iloc[1,-1].replace('**','__'))\n",
    "for i in parsed[:15]:\n",
    "    print(i.orth_)\n",
    "#from this result we decide to padding these deidentifier first with ALL UPPERCASE and then tokenization"
   ]
  },
  {
   "cell_type": "code",
   "execution_count": null,
   "metadata": {
    "collapsed": true
   },
   "outputs": [],
   "source": [
    "##This function is findding the types of deidentifier in the dataset and see how many kinds of padding do we actually need\n",
    "def identify(x):\n",
    "    '''\n",
    "    x: a list of tokens which is split by space in notes\n",
    "    return: tokens which is in the format [**X**]\n",
    "    '''\n",
    "    temp_x = reconcat_list(x)\n",
    "    return [i for i in temp_x if i.startswith('[')]\n",
    "    \n",
    "def reconcat_list(li):\n",
    "    '''\n",
    "    li: the list of tokens which is splitted by space in space\n",
    "    return: token list which has been processed. the [**X**] should be joint as one token\n",
    "    '''\n",
    "    #print(li)\n",
    "    new_li = []\n",
    "    flag = False\n",
    "    for i in li:\n",
    "        #print(i)\n",
    "        if i[0] != \"[\" and flag == False:\n",
    "            new_li.append(i)\n",
    "        elif i[0] == '[' and i[-1] == ']':\n",
    "            new_li.append(i)\n",
    "        elif i[0] == '[':\n",
    "            temp_li=[]\n",
    "            temp_li.append(i)\n",
    "            flag = True\n",
    "        elif i[-1] == ']':\n",
    "            temp_li.append(i)\n",
    "            new_li.append(' '.join(temp_li))\n",
    "            flag = False\n",
    "        else:#flag == False and in between\n",
    "            temp_li.append(i)\n",
    "    return new_li"
   ]
  },
  {
   "cell_type": "code",
   "execution_count": null,
   "metadata": {
    "collapsed": true
   },
   "outputs": [],
   "source": [
    "target_li=[]\n",
    "\n",
    "start=time.time()\n",
    "for i in range(15000):\n",
    "    temp_li = df.iloc[i,-1].split()\n",
    "    all_individual = identify(temp_li)\n",
    "    target_li.extend(all_individual)\n",
    "end=time.time()\n",
    "\n",
    "target_li.sort()\n",
    "\n",
    "with open('./unidentifier.txt','w') as f:\n",
    "    for i in target_li:\n",
    "        f.write(i+'\\n')"
   ]
  },
  {
   "cell_type": "code",
   "execution_count": null,
   "metadata": {
    "collapsed": true,
    "deletable": true,
    "editable": true
   },
   "outputs": [],
   "source": [
    "#further cleaning for finding the types\n",
    "target=[]\n",
    "with open('./unidentifier.txt','r') as f:\n",
    "    for line in f:\n",
    "        target.append(line)\n",
    "\n",
    "target=list(set(target))\n",
    "target.sort()\n",
    "\n",
    "with open('./new_unidentifier.txt','w') as f:\n",
    "    for i in target:\n",
    "        f.write(i+'\\n')"
   ]
  }
 ],
 "metadata": {
  "kernelspec": {
   "display_name": "Python 3",
   "language": "python",
   "name": "python3"
  },
  "language_info": {
   "codemirror_mode": {
    "name": "ipython",
    "version": 3
   },
   "file_extension": ".py",
   "mimetype": "text/x-python",
   "name": "python",
   "nbconvert_exporter": "python",
   "pygments_lexer": "ipython3",
   "version": "3.6.0"
  }
 },
 "nbformat": 4,
 "nbformat_minor": 2
}
